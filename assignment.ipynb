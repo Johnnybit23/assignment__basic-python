{
 "cells": [
  {
   "cell_type": "markdown",
   "metadata": {},
   "source": [
    "1. In the below elements which of them are values or an expression? eg:- values can be integer or string and expressions will be mathematical operators.\n",
    "\n",
    "                  a. (*) \n",
    "                -->Expression as it is mathematical operators.\n",
    "\n",
    "                b.('hello')\n",
    "                -->value as it is string\n",
    "\n",
    "                c. (-87.8)\n",
    "                -->value as it is float\n",
    "\n",
    "                d. (-)\n",
    "                -->Expression as it is mathematical operators.\n",
    "\n",
    "                e. (/)\n",
    "                 -->Expression as it is mathematical operators.\n",
    " \n",
    "                f.  (+)\n",
    "                -->Expression as it is mathematical operators.\n",
    "\n",
    "                g.  (6)\n",
    "                -->value as it is integer\n"
   ]
  },
  {
   "cell_type": "markdown",
   "metadata": {},
   "source": [
    "-------"
   ]
  },
  {
   "cell_type": "markdown",
   "metadata": {},
   "source": [
    "2. What is the difference between string and variable?"
   ]
  },
  {
   "cell_type": "markdown",
   "metadata": {},
   "source": [
    " variable-> data/value can be stored in temporary storage spaces called variable.\n",
    "\n",
    "         string-> string is a data type which can be alphbet (\"a\") or sequence (\"Johnny\") or (\"my name is Johnny Bit\"). a string is usually words,\n",
    "      so\n",
    "      A variable is a store of information , and a string is a type of information which we stored in a variable\n",
    "\n",
    " Example-"
   ]
  },
  {
   "cell_type": "code",
   "execution_count": 5,
   "metadata": {},
   "outputs": [
    {
     "data": {
      "text/plain": [
       "str"
      ]
     },
     "execution_count": 5,
     "metadata": {},
     "output_type": "execute_result"
    }
   ],
   "source": [
    "Student=\"JOHNNY BIT\"   ### student= variable  \n",
    "type(Student)          ### \"JOHNNY BIT\" = value of student variable.\n"
   ]
  },
  {
   "cell_type": "markdown",
   "metadata": {},
   "source": [
    "-------"
   ]
  },
  {
   "cell_type": "markdown",
   "metadata": {},
   "source": [
    "3. Describe three different data.\n",
    "\n",
    "       A.  Student_NAME=\"JOHNNY BIT\" # string data type represent words\n",
    "\n",
    "       B.  Student_roll_no= 20       # interger data type \n",
    "\n",
    "       C.  Exam_12th_qualified=True  # Boolean data type represent only two value True(1) or False(0)\n",
    "     \n",
    "         Exam_12th_qualified=False\n",
    "\n",
    "       let's prove it with python\n"
   ]
  },
  {
   "cell_type": "code",
   "execution_count": 18,
   "metadata": {},
   "outputs": [
    {
     "name": "stdout",
     "output_type": "stream",
     "text": [
      "<class 'str'>\n"
     ]
    }
   ],
   "source": [
    "Student_NAME=\"JOHNNY BIT\" ## sting datatype \n",
    "print(type(Student_NAME))            "
   ]
  },
  {
   "cell_type": "code",
   "execution_count": 19,
   "metadata": {},
   "outputs": [
    {
     "name": "stdout",
     "output_type": "stream",
     "text": [
      "<class 'int'>\n"
     ]
    }
   ],
   "source": [
    " Student_roll_no= 20           ## integer datatype\n",
    " print(type(Student_roll_no))"
   ]
  },
  {
   "cell_type": "code",
   "execution_count": 22,
   "metadata": {},
   "outputs": [
    {
     "name": "stdout",
     "output_type": "stream",
     "text": [
      "True\n",
      "<class 'bool'>\n"
     ]
    }
   ],
   "source": [
    "Exam_12th_qualified=True      ## boolean data type\n",
    "print(Exam_12th_qualified)\n",
    "print(type(Exam_12th_qualified))\n"
   ]
  },
  {
   "cell_type": "code",
   "execution_count": 23,
   "metadata": {},
   "outputs": [
    {
     "name": "stdout",
     "output_type": "stream",
     "text": [
      "False\n",
      "<class 'bool'>\n"
     ]
    }
   ],
   "source": [
    "Exam_12th_Not_qualified=False\n",
    "print(Exam_12th_Not_qualified)\n",
    "print(type(Exam_12th_qualified))\n",
    "\n"
   ]
  },
  {
   "cell_type": "markdown",
   "metadata": {},
   "source": [
    "--------"
   ]
  },
  {
   "cell_type": "markdown",
   "metadata": {},
   "source": [
    "4.   What is an expression made up of?What do all exprssions do?"
   ]
  },
  {
   "cell_type": "markdown",
   "metadata": {},
   "source": [
    "IN_PYTHON:\n",
    "         An expression is a combination of operators and operands that is interpreted to produce some other value.\n",
    "         \n",
    "         example--Arithmetic expressions\n",
    "\n",
    "         +  -> Addition.\n",
    "         -  -> Substraction.\n",
    "         *  -> Multiplication.\n",
    "         /  -> Division.\n",
    "\n",
    "         let's check them in pyton."
   ]
  },
  {
   "cell_type": "code",
   "execution_count": 24,
   "metadata": {},
   "outputs": [
    {
     "name": "stdout",
     "output_type": "stream",
     "text": [
      "60\n",
      "20\n",
      "800\n",
      "2.0\n"
     ]
    }
   ],
   "source": [
    "x = 40\n",
    "y = 20\n",
    "\n",
    "Addition       =  x+y\n",
    "\n",
    "Substraction   =  x-y\n",
    "\n",
    "Multiplication =  x*y \n",
    "\n",
    "Division       =  x/y\n",
    "\n",
    "print(Addition)\n",
    "print(Substraction)\n",
    "print(Multiplication)\n",
    "print(Division)\n"
   ]
  },
  {
   "cell_type": "markdown",
   "metadata": {},
   "source": [
    "----"
   ]
  },
  {
   "cell_type": "markdown",
   "metadata": {},
   "source": [
    "5.This assignment statements, like spam = 10. What is the difference between an\n",
    "expression and a statemet?"
   ]
  },
  {
   "cell_type": "markdown",
   "metadata": {},
   "source": [
    "                   \n",
    "   \n",
    "     1.An expression evaluaes to a single value                                        \n",
    "      \n",
    "       1.A statement does not.\n",
    "      \n",
    "     2. An \"expression\" is a combination of values and functions      \n",
    "      that are combined and interpreted by the compiler to create a new value.                   \n",
    "      \n",
    "       2. A statement which is just a standalone unit of                                                                                                    \n",
    "    execution and doesn't return anything.  \n",
    "          \n"
   ]
  },
  {
   "cell_type": "markdown",
   "metadata": {},
   "source": [
    "-----"
   ]
  },
  {
   "cell_type": "markdown",
   "metadata": {},
   "source": [
    "6.After running the following code, what does the variable bacon contain?\n",
    "bacon = 22\n",
    "bacon + 1\n"
   ]
  },
  {
   "cell_type": "code",
   "execution_count": 25,
   "metadata": {},
   "outputs": [
    {
     "data": {
      "text/plain": [
       "23"
      ]
     },
     "execution_count": 25,
     "metadata": {},
     "output_type": "execute_result"
    }
   ],
   "source": [
    "bacon = 22\n",
    "bacon+1"
   ]
  },
  {
   "cell_type": "markdown",
   "metadata": {},
   "source": [
    "7. What should the values of the following two terms be?\n",
    "'spam' + 'spamspam'\n",
    "'spam' *3 "
   ]
  },
  {
   "cell_type": "code",
   "execution_count": 36,
   "metadata": {},
   "outputs": [
    {
     "data": {
      "text/plain": [
       "'spamspamspam'"
      ]
     },
     "execution_count": 36,
     "metadata": {},
     "output_type": "execute_result"
    }
   ],
   "source": [
    "a = 'spam'\n",
    "b = 'spamspam'\n",
    "a+b"
   ]
  },
  {
   "cell_type": "code",
   "execution_count": 37,
   "metadata": {},
   "outputs": [
    {
     "data": {
      "text/plain": [
       "'spamspamspam'"
      ]
     },
     "execution_count": 37,
     "metadata": {},
     "output_type": "execute_result"
    }
   ],
   "source": [
    "a*3"
   ]
  },
  {
   "cell_type": "markdown",
   "metadata": {},
   "source": [
    "-----"
   ]
  },
  {
   "cell_type": "markdown",
   "metadata": {},
   "source": [
    "8. Why is eggs a valid variable name while 100 is invalid?\n",
    "\n",
    "\n",
    "            no special carrecter(except \"____\" underscore) and first letter can't be a digit"
   ]
  },
  {
   "cell_type": "code",
   "execution_count": 45,
   "metadata": {},
   "outputs": [
    {
     "data": {
      "text/plain": [
       "100"
      ]
     },
     "execution_count": 45,
     "metadata": {},
     "output_type": "execute_result"
    }
   ],
   "source": [
    "eggs=100   # valid variable\n",
    "\n",
    "eggs__eggs=200\n",
    "eggs"
   ]
  },
  {
   "cell_type": "code",
   "execution_count": 39,
   "metadata": {},
   "outputs": [
    {
     "ename": "SyntaxError",
     "evalue": "invalid decimal literal (1432694007.py, line 1)",
     "output_type": "error",
     "traceback": [
      "\u001b[1;36m  Input \u001b[1;32mIn [39]\u001b[1;36m\u001b[0m\n\u001b[1;33m    100egs\u001b[0m\n\u001b[1;37m      ^\u001b[0m\n\u001b[1;31mSyntaxError\u001b[0m\u001b[1;31m:\u001b[0m invalid decimal literal\n"
     ]
    }
   ],
   "source": [
    "100egs      #invalid variable\n"
   ]
  },
  {
   "cell_type": "markdown",
   "metadata": {},
   "source": [
    "--------"
   ]
  },
  {
   "cell_type": "markdown",
   "metadata": {},
   "source": [
    "9. What three functions can be used to get the integer, floating-point number, or string\n",
    "version of a value?\n",
    "\n",
    "           ->int()   = FOR integer(ex-4,5,6,7)\n",
    "\n",
    "           ->float() = FOR floating point number(ex-3.14,5.67)\n",
    "\n",
    "           ->str()   = FOR string(ex-\"JOHNNY BIT\")\n",
    "\n",
    "           \n"
   ]
  },
  {
   "cell_type": "code",
   "execution_count": 52,
   "metadata": {},
   "outputs": [
    {
     "name": "stdout",
     "output_type": "stream",
     "text": [
      "------> INTEGER <--------\n",
      "DATA TYPE OF JIMMY ISINTEGER  50\n",
      "<class 'int'>\n",
      "-----> Floating_Point_Number <------\n",
      "DATA TYPE OF JOHN IS FLOATING POINT NUMBER 50.0\n",
      "<class 'int'>\n",
      "------>STRING<--------\n",
      "DATA TYPE OF JACK IS STRING  50.0\n",
      "<class 'str'>\n"
     ]
    }
   ],
   "source": [
    "JOHNNY = \"50\"\n",
    "\n",
    "print(\"------> INTEGER <--------\")\n",
    "JIMMY=int(JOHNNY)\n",
    "print(\"DATA TYPE OF JIMMY ISINTEGER \",JIMMY)\n",
    "print(type(JIMMY))\n",
    "\n",
    "print(\"-----> Floating_Point_Number <------\")\n",
    "JOHN=float(JIMMY)\n",
    "print(\"DATA TYPE OF JOHN IS FLOATING POINT NUMBER\",JOHN)\n",
    "print(type(JIMMY))\n",
    "\n",
    "print(\"------>STRING<--------\")\n",
    "JACK=str(JOHN)\n",
    "print(\"DATA TYPE OF JACK IS STRING \",JACK)\n",
    "print(type(JACK))\n",
    "\n"
   ]
  },
  {
   "cell_type": "markdown",
   "metadata": {},
   "source": [
    "----"
   ]
  },
  {
   "cell_type": "markdown",
   "metadata": {},
   "source": [
    "10. Why does this expression cause an error?    How can you fix it?\n",
    "'I have eaten ' + 99 + ' burritos'?"
   ]
  },
  {
   "cell_type": "markdown",
   "metadata": {},
   "source": [
    "                 \n",
    "         IT CAUSES ERROR BECAUSE WE CAN'T CONCATINATE STRING WITH INTEGER."
   ]
  },
  {
   "cell_type": "markdown",
   "metadata": {},
   "source": [
    "      FIX-- IT CAN BE FIXED  ----\n",
    "        TO ALL INTEGER DATA CONVERT INTO STRING\n",
    "        "
   ]
  },
  {
   "cell_type": "code",
   "execution_count": 56,
   "metadata": {},
   "outputs": [
    {
     "data": {
      "text/plain": [
       "'I have eaten 99 burritos'"
      ]
     },
     "execution_count": 56,
     "metadata": {},
     "output_type": "execute_result"
    }
   ],
   "source": [
    "#### INTEGER DATA INTO STRING\n",
    "z='I have eaten ' \n",
    "b=99 \n",
    "c=' burritos'\n",
    "z+str(b)+c"
   ]
  },
  {
   "cell_type": "markdown",
   "metadata": {},
   "source": [
    "-----"
   ]
  },
  {
   "cell_type": "markdown",
   "metadata": {},
   "source": []
  }
 ],
 "metadata": {
  "kernelspec": {
   "display_name": "Python 3.10.4 64-bit (system)",
   "language": "python",
   "name": "python3"
  },
  "language_info": {
   "codemirror_mode": {
    "name": "ipython",
    "version": 3
   },
   "file_extension": ".py",
   "mimetype": "text/x-python",
   "name": "python",
   "nbconvert_exporter": "python",
   "pygments_lexer": "ipython3",
   "version": "3.10.4"
  },
  "orig_nbformat": 4,
  "vscode": {
   "interpreter": {
    "hash": "26de051ba29f2982a8de78e945f0abaf191376122a1563185a90213a26c5da77"
   }
  }
 },
 "nbformat": 4,
 "nbformat_minor": 2
}
